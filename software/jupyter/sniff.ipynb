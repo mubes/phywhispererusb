{
 "cells": [
  {
   "cell_type": "markdown",
   "metadata": {},
   "source": [
    "# Illustrates how to sniff USB traffic and interpret it:"
   ]
  },
  {
   "cell_type": "markdown",
   "metadata": {},
   "source": [
    "### Connect:"
   ]
  },
  {
   "cell_type": "code",
   "execution_count": 1,
   "metadata": {},
   "outputs": [],
   "source": [
    "import phywhisperer.usb as pw\n",
    "phy = pw.Usb()\n",
    "phy.con(program_fpga=True)\n",
    "phy.set_power_source(\"5V\")"
   ]
  },
  {
   "cell_type": "code",
   "execution_count": 2,
   "metadata": {},
   "outputs": [
    {
     "data": {
      "text/plain": [
       "'FPGA build time: 7/27/2020, 10:39'"
      ]
     },
     "execution_count": 2,
     "metadata": {},
     "output_type": "execute_result"
    }
   ],
   "source": [
    "phy.get_fpga_buildtime()"
   ]
  },
  {
   "cell_type": "markdown",
   "metadata": {},
   "source": [
    "### Power-off target to allow PhyWhisperer to autodetect its speed:\n",
    "Ensure the target device is connected to the PhyWhisperer.\n",
    "We'll turn off the target's power so that the PhyWhisperer can be programmed before turning the target back on. We do this because we'll be capturing what the target does when it's first turned on."
   ]
  },
  {
   "cell_type": "code",
   "execution_count": 19,
   "metadata": {},
   "outputs": [],
   "source": [
    "import time\n",
    "phy.set_power_source(\"off\")\n",
    "time.sleep(0.5)\n",
    "phy.reset_fpga()\n",
    "phy.set_usb_mode('auto')"
   ]
  },
  {
   "cell_type": "markdown",
   "metadata": {},
   "source": [
    "### Tell PhyWhisperer how many events to capture:\n",
    "In this example we'll read the captured data several cells after it's captured, so unless our USB target is very slow, we won't be able to capture more than what the PhyWhisperer's internal storage can hold (8188 USB events)."
   ]
  },
  {
   "cell_type": "code",
   "execution_count": 18,
   "metadata": {},
   "outputs": [],
   "source": [
    "phy.set_capture_size(8188)"
   ]
  },
  {
   "cell_type": "markdown",
   "metadata": {},
   "source": [
    "### Arm the PhyWhisperer:\n",
    "You should see the blue ARM LED turn on to reflect the armed status.\n",
    "In this example we don't want to generate an external trigger, we only want to capture the USB traffic."
   ]
  },
  {
   "cell_type": "code",
   "execution_count": 20,
   "metadata": {},
   "outputs": [],
   "source": [
    "phy.arm()\n",
    "phy.set_trigger(enable=False)"
   ]
  },
  {
   "cell_type": "markdown",
   "metadata": {},
   "source": [
    "### Program the pattern match:"
   ]
  },
  {
   "cell_type": "code",
   "execution_count": 21,
   "metadata": {},
   "outputs": [],
   "source": [
    "phy.set_pattern(pattern=[0x2d, 0x00], mask=[0xff, 0xff])"
   ]
  },
  {
   "cell_type": "markdown",
   "metadata": {},
   "source": [
    "### Power up the target:\n",
    "Now that PhyWhisperer is programmed, power up the target. PW should auto-detect the correct speed, and the capture should be triggered."
   ]
  },
  {
   "cell_type": "code",
   "execution_count": 22,
   "metadata": {},
   "outputs": [],
   "source": [
    "phy.set_power_source(\"5V\")\n",
    "#Let device enumerate\n",
    "time.sleep(1.0)"
   ]
  },
  {
   "cell_type": "markdown",
   "metadata": {},
   "source": [
    "### Ensure correct USB speed was detected:\n",
    "If the assertion fails, try setting the USB speed manually with set_usb_mode()."
   ]
  },
  {
   "cell_type": "code",
   "execution_count": 23,
   "metadata": {},
   "outputs": [],
   "source": [
    "assert (phy.get_usb_mode() == 'FS')\n",
    "#assert (phy.get_usb_mode() == 'LS')\n",
    "#assert (phy.get_usb_mode() == 'HS')"
   ]
  },
  {
   "cell_type": "markdown",
   "metadata": {},
   "source": [
    "### Read what was captured:"
   ]
  },
  {
   "cell_type": "code",
   "execution_count": 24,
   "metadata": {},
   "outputs": [
    {
     "name": "stderr",
     "output_type": "stream",
     "text": [
      "WARNING:root:FIFO overflowed, capture stopped.\n",
      "WARNING:root:8191 entries captured.\n"
     ]
    }
   ],
   "source": [
    "raw = phy.read_capture_data()"
   ]
  },
  {
   "cell_type": "code",
   "execution_count": 25,
   "metadata": {},
   "outputs": [
    {
     "data": {
      "text/plain": [
       "8191"
      ]
     },
     "execution_count": 25,
     "metadata": {},
     "output_type": "execute_result"
    }
   ],
   "source": [
    "len(raw)"
   ]
  },
  {
   "cell_type": "markdown",
   "metadata": {},
   "source": [
    "### Check the capture memory status:\n",
    "No overflow or underflow events should have occured."
   ]
  },
  {
   "cell_type": "code",
   "execution_count": 26,
   "metadata": {},
   "outputs": [
    {
     "ename": "AssertionError",
     "evalue": "",
     "output_type": "error",
     "traceback": [
      "\u001b[1;31m---------------------------------------------------------------------------\u001b[0m",
      "\u001b[1;31mAssertionError\u001b[0m                            Traceback (most recent call last)",
      "\u001b[1;32m<ipython-input-26-f2c813589479>\u001b[0m in \u001b[0;36m<module>\u001b[1;34m\u001b[0m\n\u001b[1;32m----> 1\u001b[1;33m \u001b[0mphy\u001b[0m\u001b[1;33m.\u001b[0m\u001b[0mcheck_fifo_errors\u001b[0m\u001b[1;33m(\u001b[0m\u001b[1;33m)\u001b[0m\u001b[1;33m\u001b[0m\u001b[1;33m\u001b[0m\u001b[0m\n\u001b[0m",
      "\u001b[1;32mc:\\users\\jp\\github\\phywhispererusb\\software\\phywhisperer\\usb.py\u001b[0m in \u001b[0;36mcheck_fifo_errors\u001b[1;34m(self, underflow, overflow)\u001b[0m\n\u001b[0;32m    610\u001b[0m         \u001b[0mfifo_overflow\u001b[0m \u001b[1;33m=\u001b[0m \u001b[1;33m(\u001b[0m\u001b[0mstatus\u001b[0m \u001b[1;33m&\u001b[0m \u001b[1;36m16\u001b[0m\u001b[1;33m)\u001b[0m \u001b[1;33m>>\u001b[0m \u001b[1;36m4\u001b[0m\u001b[1;33m\u001b[0m\u001b[1;33m\u001b[0m\u001b[0m\n\u001b[0;32m    611\u001b[0m         \u001b[1;32massert\u001b[0m \u001b[0mfifo_underflow\u001b[0m \u001b[1;33m==\u001b[0m \u001b[0munderflow\u001b[0m\u001b[1;33m\u001b[0m\u001b[1;33m\u001b[0m\u001b[0m\n\u001b[1;32m--> 612\u001b[1;33m         \u001b[1;32massert\u001b[0m \u001b[0mfifo_overflow\u001b[0m \u001b[1;33m==\u001b[0m \u001b[0moverflow\u001b[0m\u001b[1;33m\u001b[0m\u001b[1;33m\u001b[0m\u001b[0m\n\u001b[0m\u001b[0;32m    613\u001b[0m \u001b[1;33m\u001b[0m\u001b[0m\n\u001b[0;32m    614\u001b[0m \u001b[1;33m\u001b[0m\u001b[0m\n",
      "\u001b[1;31mAssertionError\u001b[0m: "
     ]
    }
   ],
   "source": [
    "phy.check_fifo_errors()"
   ]
  },
  {
   "cell_type": "markdown",
   "metadata": {},
   "source": [
    "### Interpret the captured data:\n",
    "The pattern match byte which triggered the captured isn't recorded; let's add it back it so that all of the captured USB data can be properly interpreted:"
   ]
  },
  {
   "cell_type": "code",
   "execution_count": 27,
   "metadata": {},
   "outputs": [],
   "source": [
    "phy.addpattern = True"
   ]
  },
  {
   "cell_type": "markdown",
   "metadata": {},
   "source": [
    "Then we split the raw captured data and timestamps into packets:"
   ]
  },
  {
   "cell_type": "code",
   "execution_count": 15,
   "metadata": {},
   "outputs": [
    {
     "data": {
      "text/plain": [
       "[[168, 16, 144],\n",
       " [164, 0, 145],\n",
       " [69, 0, 146],\n",
       " [168, 0, 145],\n",
       " [44, 0, 146],\n",
       " [168, 195, 144],\n",
       " [39, 0, 146],\n",
       " [168, 128, 144],\n",
       " [39, 0, 146],\n",
       " [168, 6, 144],\n",
       " [39, 0, 146],\n",
       " [168, 0, 144],\n",
       " [39, 0, 146],\n",
       " [168, 1, 144],\n",
       " [39, 0, 146],\n",
       " [168, 0, 144],\n",
       " [39, 0, 146],\n",
       " [168, 0, 144],\n",
       " [39, 0, 146],\n",
       " [168, 64, 144]]"
      ]
     },
     "execution_count": 15,
     "metadata": {},
     "output_type": "execute_result"
    }
   ],
   "source": [
    "raw[:20]"
   ]
  },
  {
   "cell_type": "code",
   "execution_count": 28,
   "metadata": {},
   "outputs": [],
   "source": [
    "packets = phy.split_packets(raw)"
   ]
  },
  {
   "cell_type": "code",
   "execution_count": 29,
   "metadata": {},
   "outputs": [
    {
     "data": {
      "text/plain": [
       "981"
      ]
     },
     "execution_count": 29,
     "metadata": {},
     "output_type": "execute_result"
    }
   ],
   "source": [
    "len(packets)"
   ]
  },
  {
   "cell_type": "markdown",
   "metadata": {},
   "source": [
    "Now we can use ViewSB to interpret the packets:"
   ]
  },
  {
   "cell_type": "code",
   "execution_count": 30,
   "metadata": {},
   "outputs": [
    {
     "name": "stdout",
     "output_type": "stream",
     "text": [
      "[      ]   0.000000 d=  0.000000 [   .0 +  0.017] [  3] SETUP: 0.0 \n",
      "[      ]   0.000001 d=  0.000001 [   .0 +  1.183] [ 11] DATA0: 80 06 00 01 00 00 40 00 dd 94 \n",
      "[      ]   0.000010 d=  0.000009 [   .0 +  9.850] [  1] ACK \n",
      "[      ]   0.000026 d=  0.000016 [   .0 + 26.017] [  3] IN   : 0.0 \n",
      "[      ]   0.000029 d=  0.000003 [   .0 + 29.433] [ 21] DATA1: 12 01 00 02 00 00 00 40 4c 53 01 00 00 01 01 02 03 01 1a 2e \n",
      "[      ]   0.000045 d=  0.000015 [   .0 + 44.600] [  1] ACK \n",
      "[      ]   0.000071 d=  0.000027 [   .0 + 71.350] [  3] OUT  : 0.0 \n",
      "[      ]   0.000075 d=  0.000003 [   .0 + 74.600] [  3] DATA1: 00 00 \n",
      "[      ]   0.000078 d=  0.000003 [   .0 + 77.933] [  1] ACK \n",
      "[      ]   0.036473 d=  0.036395 [ 21   +303.500] [  3] SETUP: 0.0 \n",
      "[      ]   0.036477 d=  0.000003 [ 21   +306.750] [ 11] DATA0: 00 05 26 00 00 00 00 00 ed f2 \n",
      "[      ]   0.036485 d=  0.000009 [ 21   +315.333] [  1] ACK \n",
      "[      ]   0.036497 d=  0.000011 [ 21   +326.583] [  3] IN   : 0.0 \n",
      "[      ]   0.036500 d=  0.000003 [ 21   +330.000] [  3] DATA1: 00 00 \n",
      "[      ]   0.036503 d=  0.000003 [ 21   +333.167] [  1] ACK \n",
      "[      ]   0.046712 d=  0.010209 [ 31   +542.500] [  3] SETUP: 38.0 \n",
      "[      ]   0.046715 d=  0.000003 [ 31   +545.667] [ 11] DATA0: 80 06 00 01 00 00 12 00 e0 f4 \n",
      "[      ]   0.046724 d=  0.000009 [ 31   +554.250] [  1] ACK \n",
      "[      ]   0.046746 d=  0.000022 [ 31   +576.500] [  3] IN   : 38.0 \n",
      "[      ]   0.046749 d=  0.000003 [ 31   +579.833] [ 21] DATA1: 12 01 00 02 00 00 00 40 4c 53 01 00 00 01 01 02 03 01 1a 2e \n",
      "[      ]   0.046765 d=  0.000015 [ 31   +595.083] [  1] ACK \n",
      "[      ]   0.046784 d=  0.000019 [ 31   +614.500] [  3] OUT  : 38.0 \n",
      "[      ]   0.046787 d=  0.000003 [ 31   +617.667] [  3] DATA1: 00 00 \n",
      "[      ]   0.046791 d=  0.000003 [ 31   +620.917] [  1] ACK \n",
      "[      ]   0.048578 d=  0.001787 [ 33   +408.333] [  3] SETUP: 38.0 \n",
      "[      ]   0.048581 d=  0.000003 [ 33   +411.583] [ 11] DATA0: 80 06 00 02 00 00 ff 00 e9 a4 \n",
      "[      ]   0.048590 d=  0.000009 [ 33   +420.333] [  1] ACK \n",
      "[      ]   0.048612 d=  0.000022 [ 33   +442.417] [  3] IN   : 38.0 \n",
      "[      ]   0.048615 d=  0.000003 [ 33   +445.833] [ 44] DATA1: 09 02 29 00 01 01 00 80 32 09 04 00 00 02 03 00 00 00 09 21 11 01 00 01 22 22 00 07 05 81 03 40 00 01 07 05 01 03 40 00 01 70 1e \n",
      "[      ]   0.048646 d=  0.000030 [ 33   +476.333] [  1] ACK \n",
      "[      ]   0.048671 d=  0.000025 [ 33   +501.667] [  3] OUT  : 38.0 \n",
      "[      ]   0.048674 d=  0.000003 [ 33   +504.917] [  3] DATA1: 00 00 \n",
      "[      ]   0.048678 d=  0.000003 [ 33   +508.167] [  1] ACK \n",
      "[      ]   0.048798 d=  0.000121 [ 33   +628.833] [  3] SETUP: 38.0 \n",
      "[      ]   0.048802 d=  0.000003 [ 33   +632.083] [ 11] DATA0: 80 06 03 03 09 04 ff 00 96 0a \n",
      "[      ]   0.048810 d=  0.000009 [ 33   +640.750] [  1] ACK \n",
      "[      ]   0.048832 d=  0.000022 [ 33   +662.833] [  3] IN   : 38.0 \n",
      "[      ]   0.048836 d=  0.000003 [ 33   +666.250] [  5] DATA1: 02 03 bf 2e \n",
      "[      ]   0.048840 d=  0.000005 [ 33   +670.833] [  1] ACK \n",
      "[      ]   0.048867 d=  0.000026 [ 33   +697.000] [  3] OUT  : 38.0 \n",
      "[      ]   0.048870 d=  0.000003 [ 33   +700.250] [  3] DATA1: 00 00 \n",
      "[      ]   0.048873 d=  0.000003 [ 33   +703.417] [  1] ACK \n",
      "[      ]   0.048975 d=  0.000102 [ 33   +805.500] [  3] SETUP: 38.0 \n",
      "[      ]   0.048978 d=  0.000003 [ 33   +808.667] [ 11] DATA0: 80 06 00 03 00 00 ff 00 d4 64 \n",
      "[      ]   0.048987 d=  0.000009 [ 33   +817.333] [  1] ACK \n",
      "[      ]   0.049009 d=  0.000022 [ 33   +839.500] [  3] IN   : 38.0 \n",
      "[      ]   0.049012 d=  0.000003 [ 33   +842.833] [  7] DATA1: 04 03 09 04 09 78 \n",
      "[      ]   0.049018 d=  0.000006 [ 33   +848.750] [  1] ACK \n",
      "[      ]   0.049046 d=  0.000028 [ 33   +876.667] [  3] OUT  : 38.0 \n",
      "[      ]   0.049049 d=  0.000003 [ 33   +879.917] [  3] DATA1: 00 00 \n",
      "[      ]   0.049053 d=  0.000003 [ 33   +883.167] [  1] ACK \n"
     ]
    }
   ],
   "source": [
    "phy.print_packets(packets[:100])"
   ]
  },
  {
   "cell_type": "markdown",
   "metadata": {},
   "source": [
    "The next few sections in this notebook show how to get more out of all the data that's captured by PhyWhisperer."
   ]
  },
  {
   "cell_type": "markdown",
   "metadata": {},
   "source": [
    "# Getting more granular time information from the raw capture data:\n",
    "For each packet, the output of `print_packets()` gives you the time when the `rx_active` went high at the start of the packet. It's possible to go more granular and get the exact time that a particular byte of a packet was received from the USB PHY. Let's look at one particular packet. If `packets[4]` isn't an interesting multi-byte packet in your capture, try a different index."
   ]
  },
  {
   "cell_type": "code",
   "execution_count": 31,
   "metadata": {},
   "outputs": [
    {
     "name": "stdout",
     "output_type": "stream",
     "text": [
      "[      ]   0.000029 d=  0.000029 [   .0 + 29.433] [ 21] DATA1: 12 01 00 02 00 00 00 40 4c 53 01 00 00 01 01 02 03 01 1a 2e \n"
     ]
    }
   ],
   "source": [
    "packet_index = 4\n",
    "phy.print_packets([packets[packet_index]])"
   ]
  },
  {
   "cell_type": "markdown",
   "metadata": {},
   "source": [
    "Here are all the raw attributes of that packet: its timestamp, size, flags, and contents (flags will be discussed in the next section):"
   ]
  },
  {
   "cell_type": "code",
   "execution_count": 32,
   "metadata": {},
   "outputs": [
    {
     "name": "stdout",
     "output_type": "stream",
     "text": [
      "Timestamp=1766\n",
      "Size=21 bytes\n",
      "Flags=0\n",
      "Raw content: 0x4b 0x12 0x1 0x0 0x2 0x0 0x0 0x0 0x40 0x4c 0x53 0x1 0x0 0x0 0x1 0x1 0x2 0x3 0x1 0x1a 0x2e "
     ]
    }
   ],
   "source": [
    "timestamp = packets[packet_index]['timestamp']\n",
    "print(\"Timestamp=%d\" % timestamp)\n",
    "print(\"Size=%d bytes\" % packets[packet_index]['size'])\n",
    "print(\"Flags=%s\" % packets[packet_index]['flags'])\n",
    "print(\"Raw content: \", end='')\n",
    "for byte in packets[packet_index]['contents']:\n",
    "    print(hex(byte), end=' ')"
   ]
  },
  {
   "cell_type": "markdown",
   "metadata": {},
   "source": [
    "If we want to find out what time each byte of the packet was received, we could look directly at the `raw` data that we read from the PhyWhisperer, but using the `split_data()` function to parse the raw data will make it easier to find what we're looking for.\n",
    "`split_data()` returns 4 lists:\n",
    "1. a data timestamp list\n",
    "2. a list of associated data events\n",
    "3. a USB status timestamp list\n",
    "4. a list of associated status events"
   ]
  },
  {
   "cell_type": "code",
   "execution_count": 33,
   "metadata": {},
   "outputs": [],
   "source": [
    "datatimes, databytes, stattimes, statbytes = phy.split_data(raw)"
   ]
  },
  {
   "cell_type": "markdown",
   "metadata": {},
   "source": [
    "The `timestamp` of our packet corresponds to the `rx_active` line going high and this happens prior to data being received, so we'll find that timestamp in our USB status timestamp list:"
   ]
  },
  {
   "cell_type": "code",
   "execution_count": 34,
   "metadata": {},
   "outputs": [
    {
     "name": "stdout",
     "output_type": "stream",
     "text": [
      "Status index: 8; status byte: 0x15\n"
     ]
    }
   ],
   "source": [
    "statindex = stattimes.index(timestamp)\n",
    "print(\"Status index: %d; status byte: %s\" % (statindex, hex(statbytes[statindex])))"
   ]
  },
  {
   "cell_type": "markdown",
   "metadata": {},
   "source": [
    "The status byte represents 5 status lines that are captured from the USB PHY: \n",
    "- rx active\n",
    "- rx error\n",
    "- session valid\n",
    "- session end\n",
    "- vbus valid\n",
    "\n",
    "(See the [Microchip USB3500 datasheet](https://www.microchip.com/wwwproducts/en/USB3500) for definitions of what these mean.)\n",
    "\n",
    "The status byte received at the start of a packet is always 0x15. \n",
    "Use `print_flags()` to parse the bitfields of a status byte:"
   ]
  },
  {
   "cell_type": "code",
   "execution_count": 35,
   "metadata": {},
   "outputs": [
    {
     "name": "stdout",
     "output_type": "stream",
     "text": [
      "vbus_valid = 1\n",
      "sess_end   = 0\n",
      "sess_valid = 1\n",
      "rx_error   = 0\n",
      "rx_active  = 1\n"
     ]
    }
   ],
   "source": [
    "phy.print_flags(statbytes[statindex])"
   ]
  },
  {
   "cell_type": "markdown",
   "metadata": {},
   "source": [
    "Now we're interested in the packet data timestamps. These will follow shortly after this status timestamp. We can just look for the first data timestamp which is greater than this status timestamp:"
   ]
  },
  {
   "cell_type": "code",
   "execution_count": 36,
   "metadata": {},
   "outputs": [
    {
     "name": "stdout",
     "output_type": "stream",
     "text": [
      "Found data timestamp: 16\n"
     ]
    }
   ],
   "source": [
    "searchtime = timestamp\n",
    "while searchtime <= datatimes[-1]:\n",
    "    try:\n",
    "        data_start_index = datatimes.index(searchtime)\n",
    "        print(\"Found data timestamp: %d\" % data_start_index)\n",
    "        break\n",
    "    except:\n",
    "        searchtime += 1"
   ]
  },
  {
   "cell_type": "markdown",
   "metadata": {},
   "source": [
    "We've now located our raw packet bytes within the list of all data bytes and data timestamps received from the PhyWhisperer. Now we can see at what time each byte was received from the USB phy:"
   ]
  },
  {
   "cell_type": "code",
   "execution_count": 37,
   "metadata": {},
   "outputs": [
    {
     "name": "stdout",
     "output_type": "stream",
     "text": [
      "Timestamp: 1811   Data: 0x4b\n",
      "Timestamp: 1851   Data: 0x12\n",
      "Timestamp: 1891   Data: 0x1\n",
      "Timestamp: 1931   Data: 0x0\n",
      "Timestamp: 1971   Data: 0x2\n",
      "Timestamp: 2011   Data: 0x0\n",
      "Timestamp: 2051   Data: 0x0\n",
      "Timestamp: 2091   Data: 0x0\n",
      "Timestamp: 2131   Data: 0x40\n",
      "Timestamp: 2171   Data: 0x4c\n"
     ]
    }
   ],
   "source": [
    "for i in range(data_start_index, data_start_index+10):\n",
    "    print('Timestamp: %d   Data: %s' % (datatimes[i], hex(databytes[i])))"
   ]
  },
  {
   "cell_type": "markdown",
   "metadata": {},
   "source": [
    "The data is the same that we got from `packets[packet_index]['contents']`, but now we have the timestamp for each byte."
   ]
  },
  {
   "cell_type": "markdown",
   "metadata": {},
   "source": [
    "# USB status flags:\n",
    "In the output of `print_packets()` you may have noticed the empty space within brackets at the start of every line:"
   ]
  },
  {
   "cell_type": "code",
   "execution_count": null,
   "metadata": {},
   "outputs": [],
   "source": [
    "phy.print_packets(packets[:5])"
   ]
  },
  {
   "cell_type": "markdown",
   "metadata": {},
   "source": [
    "This is where we would note when the USB status bits diverge from their expected values during a packet. With a well-behaved target, this field should always be blank.\n",
    "\n",
    "Let's simulate what would happen if this were not the case. Imagine you are using PhyWhisperer to attack the target and are successful at causing the USB phy to flag an Rx Error event.\n",
    "\n",
    "To simulate this, we go through the raw data captured by the PhyWhisperer. We find the first DATA command and set its Rx Error status bit (see `software/phywhisperer/firmware/defines.v` for definitions of the bitfields)."
   ]
  },
  {
   "cell_type": "code",
   "execution_count": null,
   "metadata": {},
   "outputs": [],
   "source": [
    "for rawentry in raw:\n",
    "    command = rawentry[2] & 0x3\n",
    "    if (command == phy.FE_FIFO_CMD_DATA):\n",
    "        rawentry[0] += 2**phy.FE_FIFO_RXERROR_BIT\n",
    "        break"
   ]
  },
  {
   "cell_type": "markdown",
   "metadata": {},
   "source": [
    "We then re-parse and print the raw data. You should see the error flag 'E' on the first packet:"
   ]
  },
  {
   "cell_type": "code",
   "execution_count": null,
   "metadata": {},
   "outputs": [],
   "source": [
    "corrupted_packets = phy.split_packets(raw)\n",
    "phy.print_packets(corrupted_packets[0:4])"
   ]
  },
  {
   "cell_type": "markdown",
   "metadata": {},
   "source": [
    "You can also see this at a more granular level in the `split_data` output:"
   ]
  },
  {
   "cell_type": "code",
   "execution_count": null,
   "metadata": {},
   "outputs": [],
   "source": [
    "datatimes, databytes, stattimes, statbytes = phy.split_data(raw)\n",
    "phy.print_flags(statbytes[0])"
   ]
  },
  {
   "cell_type": "markdown",
   "metadata": {},
   "source": [
    "# USB status monitor feature:\n",
    "PhyWhisperer can be programmed to log a match on any of the 5 USB status lines. Again, these are:\n",
    "- rx active (bit 0)\n",
    "- rx error (bit 1)\n",
    "- session valid (bit 2)\n",
    "- session end (bit 3)\n",
    "- vbus valid (bit 4)\n",
    "\n",
    "(See the [Microchip USB3500 datasheet](https://www.microchip.com/wwwproducts/en/USB3500) for definitions of what these mean).\n",
    "\n",
    "In glitching attacks it may be useful to monitor rxerror.\n",
    "In this example we're not attacking the target, so let's just illustrate a match event on the 'session end' status line:"
   ]
  },
  {
   "cell_type": "code",
   "execution_count": null,
   "metadata": {},
   "outputs": [],
   "source": [
    "# look only at bit 3 (session end), don't care what the other bits are:\n",
    "phy.set_stat_pattern(pattern=0x8, mask=0x8)\n",
    "# power off target to cause a \"session end\" event:\n",
    "phy.set_power_source('off')\n",
    "assert phy.stat_pattern_matched() == 1, \"oops, didn't see a session end event!\"\n",
    "print(\"Matched USB status lines: %s\" % hex(phy.stat_pattern_match_value))"
   ]
  },
  {
   "cell_type": "code",
   "execution_count": null,
   "metadata": {},
   "outputs": [],
   "source": [
    "phy.close()"
   ]
  },
  {
   "cell_type": "code",
   "execution_count": null,
   "metadata": {},
   "outputs": [],
   "source": []
  }
 ],
 "metadata": {
  "kernelspec": {
   "display_name": "Python 3",
   "language": "python",
   "name": "python3"
  },
  "language_info": {
   "codemirror_mode": {
    "name": "ipython",
    "version": 3
   },
   "file_extension": ".py",
   "mimetype": "text/x-python",
   "name": "python",
   "nbconvert_exporter": "python",
   "pygments_lexer": "ipython3",
   "version": "3.7.4"
  }
 },
 "nbformat": 4,
 "nbformat_minor": 4
}
