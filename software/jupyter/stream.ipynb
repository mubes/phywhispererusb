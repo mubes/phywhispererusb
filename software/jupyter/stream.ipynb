{
 "cells": [
  {
   "cell_type": "markdown",
   "metadata": {},
   "source": [
    "# Illustrates how to stream USB traffic:\n",
    "It isn't necessary to wait for the capture to be finished before we start reading; we can even start reading before the capture starts.\n",
    "\n",
    "What this means is that for targets that don't generate traffic faster than we can read it (e.g. LS and FS targets), the capture size isn't limited by the PhyWhisperer's internal storage; our capture size is theoretically unlimited!\n",
    "\n",
    "(Captured data is read from the PhyWhisperer at up to 40 Mbps. The exact rate depends on the nature of the target's USB traffic, because there is overhead in the PhyWhisperer capture for timestamp and USB status data.)\n",
    "\n",
    "For HS targets, we can't read the captured data as fast as it's generated, so the capture size remains limited, but it's still possible to capture more than what the PhyWhisperer's internal storage can hold."
   ]
  },
  {
   "cell_type": "markdown",
   "metadata": {},
   "source": [
    "### Connect:"
   ]
  },
  {
   "cell_type": "code",
   "execution_count": 1,
   "metadata": {},
   "outputs": [],
   "source": [
    "import phywhisperer.usb as pw\n",
    "phy = pw.Usb()\n",
    "phy.con(program_fpga=True)\n",
    "phy.set_power_source(\"host\")"
   ]
  },
  {
   "cell_type": "markdown",
   "metadata": {},
   "source": [
    "### Set capture parameters:\n",
    "Compared to the [basic sniffing tutorial](sniff.ipynb), we'll do a few things differently here:\n",
    "\n",
    "1. In order to capture more than what the PhyWhisperer can store, we must begin reading the capture as soon as possible.\n",
    "\n",
    "2. To facilitate this, we'll manually set the USB target speed, instead of using the autodetect feature. This allows the capture to start immediately after the target powers on.\n",
    "\n",
    "3. We'll set the capture size to be unlimited with `set_capture_size(0)`. It could also be set to a fixed number of events (max 2^24-1).\n",
    "\n",
    "4. We'll stop reading capture data after 5 seconds with `read_capture_data(timeout=5)`."
   ]
  },
  {
   "cell_type": "code",
   "execution_count": 11,
   "metadata": {},
   "outputs": [],
   "source": [
    "import time\n",
    "raw = []\n",
    "\n",
    "phy.set_power_source(\"off\")\n",
    "time.sleep(0.5)\n",
    "phy.reset_fpga()\n",
    "phy.set_usb_mode('FS')\n",
    "\n",
    "phy.set_capture_size(0xffff)\n",
    "phy.arm()\n",
    "phy.set_trigger(enable=False)\n",
    "phy.set_pattern(pattern=[0x2d, 0x00], mask=[0xff, 0xff])\n",
    "\n",
    "phy.set_power_source(\"5V\")\n",
    "\n",
    "raw = phy.read_capture_data(timeout=5)"
   ]
  },
  {
   "cell_type": "markdown",
   "metadata": {},
   "source": [
    "### Check how many entries were captured:"
   ]
  },
  {
   "cell_type": "code",
   "execution_count": 12,
   "metadata": {},
   "outputs": [
    {
     "name": "stdout",
     "output_type": "stream",
     "text": [
      "Captured 65535 entries.\n"
     ]
    }
   ],
   "source": [
    "print('Captured %d entries.' % len(raw))\n",
    "assert len(raw) > 8189, \"Oops, didn't capture more than what the PhyWhisperer's internal memory can store. Something went wrong.\""
   ]
  },
  {
   "cell_type": "markdown",
   "metadata": {},
   "source": [
    "### Check the capture memory status:\n",
    "Here, because the capture size was set to \"unlimited\", the PhyWhisperer will overflow shortly after we stop reading from it, so an overflow error is expected.\n",
    "To avoid this, change the capture size to a number smaller than the number of events you captured here."
   ]
  },
  {
   "cell_type": "code",
   "execution_count": 13,
   "metadata": {},
   "outputs": [],
   "source": [
    "phy.check_fifo_errors()"
   ]
  },
  {
   "cell_type": "markdown",
   "metadata": {},
   "source": [
    "### Interpret the captured data:\n",
    "The pattern match byte which triggered the captured isn't recorded; let's add it back it so that all of the captured USB data can be properly interpreted:"
   ]
  },
  {
   "cell_type": "code",
   "execution_count": 6,
   "metadata": {},
   "outputs": [],
   "source": [
    "phy.addpattern = True"
   ]
  },
  {
   "cell_type": "markdown",
   "metadata": {},
   "source": [
    "Then we split the raw captured data and timestamps into packets (if the capture is very large this could take a while):"
   ]
  },
  {
   "cell_type": "code",
   "execution_count": 7,
   "metadata": {},
   "outputs": [
    {
     "name": "stdout",
     "output_type": "stream",
     "text": [
      "Captured 14416 packets.\n"
     ]
    }
   ],
   "source": [
    "packets = phy.split_packets(raw)\n",
    "print('Captured %d packets.' % len(packets))"
   ]
  },
  {
   "cell_type": "markdown",
   "metadata": {},
   "source": [
    "Now we can use ViewSB to interpret the packets. Careful, the output can be VERY long, so we'll just print the first few packets:"
   ]
  },
  {
   "cell_type": "code",
   "execution_count": 8,
   "metadata": {},
   "outputs": [
    {
     "name": "stdout",
     "output_type": "stream",
     "text": [
      "[      ]   0.000000 d=  0.000000 [   .0 +  0.017] [  3] SETUP: 0.0 \n",
      "[      ]   0.000001 d=  0.000001 [   .0 +  1.267] [ 11] DATA0: 80 06 00 01 00 00 40 00 dd 94 \n",
      "[      ]   0.000010 d=  0.000009 [   .0 +  9.850] [  1] ACK \n",
      "[      ]   0.000029 d=  0.000020 [   .0 + 29.433] [  3] IN   : 0.0 \n",
      "[      ]   0.000033 d=  0.000003 [   .0 + 32.850] [ 21] DATA1: 12 01 00 02 00 00 00 40 4c 53 01 00 00 01 01 02 03 01 1a 2e \n",
      "[      ]   0.000048 d=  0.000015 [   .0 + 48.017] [  1] ACK \n",
      "[      ]   0.000069 d=  0.000021 [   .0 + 68.517] [  3] OUT  : 0.0 \n",
      "[      ]   0.000072 d=  0.000003 [   .0 + 71.767] [  3] DATA1: 00 00 \n",
      "[      ]   0.000075 d=  0.000003 [   .0 + 75.100] [  1] ACK \n"
     ]
    }
   ],
   "source": [
    "phy.print_packets(packets[:20])"
   ]
  },
  {
   "cell_type": "code",
   "execution_count": 9,
   "metadata": {},
   "outputs": [],
   "source": [
    "phy.close()"
   ]
  },
  {
   "cell_type": "code",
   "execution_count": null,
   "metadata": {},
   "outputs": [],
   "source": []
  }
 ],
 "metadata": {
  "kernelspec": {
   "display_name": "Python 3",
   "language": "python",
   "name": "python3"
  },
  "language_info": {
   "codemirror_mode": {
    "name": "ipython",
    "version": 3
   },
   "file_extension": ".py",
   "mimetype": "text/x-python",
   "name": "python",
   "nbconvert_exporter": "python",
   "pygments_lexer": "ipython3",
   "version": "3.7.4"
  }
 },
 "nbformat": 4,
 "nbformat_minor": 4
}
